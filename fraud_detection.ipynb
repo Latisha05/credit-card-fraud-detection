{
  "cells": [
    {
      "cell_type": "code",
      "source": [
        "import pandas as pd\n",
        "import numpy as np\n",
        "import matplotlib.pyplot as plt\n",
        "import seaborn as sns\n",
        "\n",
        "from sklearn.preprocessing import StandardScaler\n",
        "from sklearn.model_selection import train_test_split\n",
        "from sklearn.metrics import classification_report, confusion_matrix\n",
        "\n",
        "from keras.models import Model\n",
        "from keras.layers import Input, Dense\n",
        "from keras import regularizers\n",
        "\n"
      ],
      "metadata": {
        "id": "BKU0MjtVqmYU"
      },
      "execution_count": 11,
      "outputs": []
    },
    {
      "cell_type": "code",
      "source": [
        "df = pd.read_csv('creditcard.csv')\n",
        "df = df.drop(['Time'], axis=1)\n",
        "\n",
        "scaler = StandardScaler()\n",
        "df['Amount'] = scaler.fit_transform(df[['Amount']])\n",
        "\n",
        "X = df.drop(['Class'], axis=1)\n",
        "y = df['Class']\n"
      ],
      "metadata": {
        "id": "mrzJWiasrLlc"
      },
      "execution_count": 12,
      "outputs": []
    },
    {
      "cell_type": "code",
      "source": [
        "X_train, X_test = train_test_split(X, test_size=0.2, random_state=42)\n",
        "X_train = X_train[y[X_train.index] == 0]\n"
      ],
      "metadata": {
        "id": "SEUZKQ0HrnMl"
      },
      "execution_count": 13,
      "outputs": []
    },
    {
      "cell_type": "code",
      "source": [
        "input_dim = X_train.shape[1]\n",
        "input_layer = Input(shape=(input_dim,))\n",
        "encoded = Dense(14, activation='tanh', activity_regularizer=regularizers.l1(1e-5))(input_layer)\n",
        "encoded = Dense(7, activation='relu')(encoded)\n",
        "decoded = Dense(14, activation='tanh')(encoded)\n",
        "decoded = Dense(input_dim, activation='relu')(decoded)\n",
        "\n",
        "autoencoder = Model(inputs=input_layer, outputs=decoded)\n",
        "autoencoder.compile(optimizer='adam', loss='mean_squared_error')\n",
        "\n"
      ],
      "metadata": {
        "id": "vCEhtO-srqJC"
      },
      "execution_count": 14,
      "outputs": []
    },
    {
      "cell_type": "code",
      "source": [
        "autoencoder.fit(X_train, X_train,\n",
        "                epochs=20,\n",
        "                batch_size=64,\n",
        "                shuffle=True,\n",
        "                validation_split=0.1,\n",
        "                verbose=1)\n"
      ],
      "metadata": {
        "colab": {
          "base_uri": "https://localhost:8080/"
        },
        "collapsed": true,
        "id": "QVNUtbBtrtxu",
        "outputId": "5b04c876-1dd4-4157-842c-65ec57f48bb7"
      },
      "execution_count": 15,
      "outputs": [
        {
          "output_type": "stream",
          "name": "stdout",
          "text": [
            "Epoch 1/20\n",
            "\u001b[1m3199/3199\u001b[0m \u001b[32m━━━━━━━━━━━━━━━━━━━━\u001b[0m\u001b[37m\u001b[0m \u001b[1m9s\u001b[0m 2ms/step - loss: 0.8724 - val_loss: 0.7415\n",
            "Epoch 2/20\n",
            "\u001b[1m3199/3199\u001b[0m \u001b[32m━━━━━━━━━━━━━━━━━━━━\u001b[0m\u001b[37m\u001b[0m \u001b[1m11s\u001b[0m 2ms/step - loss: 0.7414 - val_loss: 0.7236\n",
            "Epoch 3/20\n",
            "\u001b[1m3199/3199\u001b[0m \u001b[32m━━━━━━━━━━━━━━━━━━━━\u001b[0m\u001b[37m\u001b[0m \u001b[1m10s\u001b[0m 2ms/step - loss: 0.7227 - val_loss: 0.7152\n",
            "Epoch 4/20\n",
            "\u001b[1m3199/3199\u001b[0m \u001b[32m━━━━━━━━━━━━━━━━━━━━\u001b[0m\u001b[37m\u001b[0m \u001b[1m10s\u001b[0m 2ms/step - loss: 0.7283 - val_loss: 0.7105\n",
            "Epoch 5/20\n",
            "\u001b[1m3199/3199\u001b[0m \u001b[32m━━━━━━━━━━━━━━━━━━━━\u001b[0m\u001b[37m\u001b[0m \u001b[1m9s\u001b[0m 2ms/step - loss: 0.7154 - val_loss: 0.7039\n",
            "Epoch 6/20\n",
            "\u001b[1m3199/3199\u001b[0m \u001b[32m━━━━━━━━━━━━━━━━━━━━\u001b[0m\u001b[37m\u001b[0m \u001b[1m10s\u001b[0m 2ms/step - loss: 0.7026 - val_loss: 0.7048\n",
            "Epoch 7/20\n",
            "\u001b[1m3199/3199\u001b[0m \u001b[32m━━━━━━━━━━━━━━━━━━━━\u001b[0m\u001b[37m\u001b[0m \u001b[1m11s\u001b[0m 2ms/step - loss: 0.7038 - val_loss: 0.7007\n",
            "Epoch 8/20\n",
            "\u001b[1m3199/3199\u001b[0m \u001b[32m━━━━━━━━━━━━━━━━━━━━\u001b[0m\u001b[37m\u001b[0m \u001b[1m11s\u001b[0m 2ms/step - loss: 0.7197 - val_loss: 0.6984\n",
            "Epoch 9/20\n",
            "\u001b[1m3199/3199\u001b[0m \u001b[32m━━━━━━━━━━━━━━━━━━━━\u001b[0m\u001b[37m\u001b[0m \u001b[1m10s\u001b[0m 2ms/step - loss: 0.6923 - val_loss: 0.6957\n",
            "Epoch 10/20\n",
            "\u001b[1m3199/3199\u001b[0m \u001b[32m━━━━━━━━━━━━━━━━━━━━\u001b[0m\u001b[37m\u001b[0m \u001b[1m7s\u001b[0m 2ms/step - loss: 0.7193 - val_loss: 0.6938\n",
            "Epoch 11/20\n",
            "\u001b[1m3199/3199\u001b[0m \u001b[32m━━━━━━━━━━━━━━━━━━━━\u001b[0m\u001b[37m\u001b[0m \u001b[1m10s\u001b[0m 2ms/step - loss: 0.6928 - val_loss: 0.6931\n",
            "Epoch 12/20\n",
            "\u001b[1m3199/3199\u001b[0m \u001b[32m━━━━━━━━━━━━━━━━━━━━\u001b[0m\u001b[37m\u001b[0m \u001b[1m11s\u001b[0m 2ms/step - loss: 0.7011 - val_loss: 0.6906\n",
            "Epoch 13/20\n",
            "\u001b[1m3199/3199\u001b[0m \u001b[32m━━━━━━━━━━━━━━━━━━━━\u001b[0m\u001b[37m\u001b[0m \u001b[1m7s\u001b[0m 2ms/step - loss: 0.6988 - val_loss: 0.6908\n",
            "Epoch 14/20\n",
            "\u001b[1m3199/3199\u001b[0m \u001b[32m━━━━━━━━━━━━━━━━━━━━\u001b[0m\u001b[37m\u001b[0m \u001b[1m10s\u001b[0m 2ms/step - loss: 0.6974 - val_loss: 0.6894\n",
            "Epoch 15/20\n",
            "\u001b[1m3199/3199\u001b[0m \u001b[32m━━━━━━━━━━━━━━━━━━━━\u001b[0m\u001b[37m\u001b[0m \u001b[1m10s\u001b[0m 2ms/step - loss: 0.6920 - val_loss: 0.6887\n",
            "Epoch 16/20\n",
            "\u001b[1m3199/3199\u001b[0m \u001b[32m━━━━━━━━━━━━━━━━━━━━\u001b[0m\u001b[37m\u001b[0m \u001b[1m8s\u001b[0m 2ms/step - loss: 0.7039 - val_loss: 0.6875\n",
            "Epoch 17/20\n",
            "\u001b[1m3199/3199\u001b[0m \u001b[32m━━━━━━━━━━━━━━━━━━━━\u001b[0m\u001b[37m\u001b[0m \u001b[1m10s\u001b[0m 2ms/step - loss: 0.7042 - val_loss: 0.6889\n",
            "Epoch 18/20\n",
            "\u001b[1m3199/3199\u001b[0m \u001b[32m━━━━━━━━━━━━━━━━━━━━\u001b[0m\u001b[37m\u001b[0m \u001b[1m7s\u001b[0m 2ms/step - loss: 0.6906 - val_loss: 0.6859\n",
            "Epoch 19/20\n",
            "\u001b[1m3199/3199\u001b[0m \u001b[32m━━━━━━━━━━━━━━━━━━━━\u001b[0m\u001b[37m\u001b[0m \u001b[1m11s\u001b[0m 2ms/step - loss: 0.6941 - val_loss: 0.6849\n",
            "Epoch 20/20\n",
            "\u001b[1m3199/3199\u001b[0m \u001b[32m━━━━━━━━━━━━━━━━━━━━\u001b[0m\u001b[37m\u001b[0m \u001b[1m11s\u001b[0m 2ms/step - loss: 0.6974 - val_loss: 0.6848\n"
          ]
        },
        {
          "output_type": "execute_result",
          "data": {
            "text/plain": [
              "<keras.src.callbacks.history.History at 0x7988cdafcdd0>"
            ]
          },
          "metadata": {},
          "execution_count": 15
        }
      ]
    },
    {
      "cell_type": "code",
      "source": [
        "X_test_pred = autoencoder.predict(X_test)\n",
        "mse = np.mean(np.power(X_test - X_test_pred, 2), axis=1)\n",
        "threshold = np.percentile(mse, 95)\n",
        "y_pred = (mse > threshold).astype(int)\n",
        "\n"
      ],
      "metadata": {
        "colab": {
          "base_uri": "https://localhost:8080/"
        },
        "collapsed": true,
        "id": "CwpJ2RuEsg-y",
        "outputId": "6b39ef8a-37c2-4ee6-fea9-a1aa4a3c55a5"
      },
      "execution_count": 16,
      "outputs": [
        {
          "output_type": "stream",
          "name": "stdout",
          "text": [
            "\u001b[1m1781/1781\u001b[0m \u001b[32m━━━━━━━━━━━━━━━━━━━━\u001b[0m\u001b[37m\u001b[0m \u001b[1m4s\u001b[0m 2ms/step\n"
          ]
        }
      ]
    },
    {
      "cell_type": "code",
      "source": [
        "y_true = y[X_test.index]\n",
        "print(confusion_matrix(y_true, y_pred))\n",
        "print(classification_report(y_true, y_pred))\n",
        "\n"
      ],
      "metadata": {
        "colab": {
          "base_uri": "https://localhost:8080/"
        },
        "collapsed": true,
        "id": "xikV1V-Tsphh",
        "outputId": "ce892f06-7979-44d4-f75d-e48b352a2ee3"
      },
      "execution_count": 17,
      "outputs": [
        {
          "output_type": "stream",
          "name": "stdout",
          "text": [
            "[[54098  2766]\n",
            " [   15    83]]\n",
            "              precision    recall  f1-score   support\n",
            "\n",
            "           0       1.00      0.95      0.97     56864\n",
            "           1       0.03      0.85      0.06        98\n",
            "\n",
            "    accuracy                           0.95     56962\n",
            "   macro avg       0.51      0.90      0.52     56962\n",
            "weighted avg       1.00      0.95      0.97     56962\n",
            "\n"
          ]
        }
      ]
    },
    {
      "cell_type": "code",
      "source": [
        "plt.figure(figsize=(10, 6))\n",
        "\n",
        "normal_mse = mse[y_true == 0]\n",
        "fraud_mse = mse[y_true == 1]\n",
        "\n",
        "plt.hist(normal_mse, bins=100, alpha=0.6, label='Normal', color='blue', density=True)\n",
        "plt.hist(fraud_mse, bins=100, alpha=0.6, label='Fraud', color='red', density=True)\n",
        "\n",
        "plt.axvline(threshold, color='black', linestyle='--', label='Threshold')\n",
        "\n",
        "plt.title(\"Reconstruction Error (Autoencoder)\")\n",
        "plt.xlabel(\"Mean Squared Error\")\n",
        "plt.ylabel(\"Density\")\n",
        "plt.legend()\n",
        "plt.grid(True)\n",
        "plt.show()\n",
        "\n",
        "\n"
      ],
      "metadata": {
        "colab": {
          "base_uri": "https://localhost:8080/",
          "height": 564
        },
        "id": "_jpeVb2ustwl",
        "outputId": "6b60459a-68a5-4006-fea7-0277e9ff5391"
      },
      "execution_count": 19,
      "outputs": [
        {
          "output_type": "display_data",
          "data": {
            "text/plain": [
              "<Figure size 1000x600 with 1 Axes>"
            ],
            "image/png": "[encoded data removed]"
          },
          "metadata": {}
        }
      ]
    }
  ],
  "metadata": {
    "colab": {
      "name": "Welcome To Colab",
      "provenance": []
    },
    "kernelspec": {
      "display_name": "Python 3",
      "name": "python3"
    }
  },
  "nbformat": 4,
  "nbformat_minor": 0
}